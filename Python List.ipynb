{
 "cells": [
  {
   "cell_type": "code",
   "execution_count": 3,
   "id": "dd713b47-2a50-499b-81e9-882cedd2f367",
   "metadata": {},
   "outputs": [],
   "source": [
    "l = [1,123,45,\"deep\",True , 5+8j,345.46]"
   ]
  },
  {
   "cell_type": "code",
   "execution_count": 4,
   "id": "2ef40fd2-ff31-4bb6-a518-0cec46de6d6f",
   "metadata": {},
   "outputs": [
    {
     "data": {
      "text/plain": [
       "list"
      ]
     },
     "execution_count": 4,
     "metadata": {},
     "output_type": "execute_result"
    }
   ],
   "source": [
    "type(l)"
   ]
  },
  {
   "cell_type": "code",
   "execution_count": 5,
   "id": "c423f2a1-ca7f-481c-9133-d4bfdb6de95e",
   "metadata": {},
   "outputs": [
    {
     "data": {
      "text/plain": [
       "1"
      ]
     },
     "execution_count": 5,
     "metadata": {},
     "output_type": "execute_result"
    }
   ],
   "source": [
    "l[0]"
   ]
  },
  {
   "cell_type": "code",
   "execution_count": 6,
   "id": "3cba70a1-3d3f-40ee-bd6e-eb0e4edbd17b",
   "metadata": {},
   "outputs": [
    {
     "data": {
      "text/plain": [
       "'deep'"
      ]
     },
     "execution_count": 6,
     "metadata": {},
     "output_type": "execute_result"
    }
   ],
   "source": [
    "l[3]"
   ]
  },
  {
   "cell_type": "code",
   "execution_count": 8,
   "id": "e7fa8079-b4d9-44c3-bad6-52cbef918752",
   "metadata": {},
   "outputs": [
    {
     "data": {
      "text/plain": [
       "[1, 123, 45, 'deep', True, (5+8j), 345.46]"
      ]
     },
     "execution_count": 8,
     "metadata": {},
     "output_type": "execute_result"
    }
   ],
   "source": [
    "l[0:7]"
   ]
  },
  {
   "cell_type": "code",
   "execution_count": 12,
   "id": "9d3b3a84-eba7-42b0-a928-6f39276ea8c3",
   "metadata": {},
   "outputs": [
    {
     "data": {
      "text/plain": [
       "345.46"
      ]
     },
     "execution_count": 12,
     "metadata": {},
     "output_type": "execute_result"
    }
   ],
   "source": [
    "l[-1]  "
   ]
  },
  {
   "cell_type": "code",
   "execution_count": 13,
   "id": "55ea0eaf-d0b7-4950-b06e-89e99c1c590e",
   "metadata": {},
   "outputs": [
    {
     "data": {
      "text/plain": [
       "[345.46, (5+8j), True, 'deep', 45, 123, 1]"
      ]
     },
     "execution_count": 13,
     "metadata": {},
     "output_type": "execute_result"
    }
   ],
   "source": [
    "l[::-1]"
   ]
  },
  {
   "cell_type": "code",
   "execution_count": 10,
   "id": "b37e0a58-e88a-4e11-a965-cab55144c1c7",
   "metadata": {},
   "outputs": [
    {
     "data": {
      "text/plain": [
       "[1, 45, True, 345.46]"
      ]
     },
     "execution_count": 10,
     "metadata": {},
     "output_type": "execute_result"
    }
   ],
   "source": [
    "l[0:7:2]"
   ]
  },
  {
   "cell_type": "code",
   "execution_count": 15,
   "id": "411ea94d-bd34-4088-b792-e6e47fcee94c",
   "metadata": {},
   "outputs": [
    {
     "data": {
      "text/plain": [
       "[1, 45, True, 345.46]"
      ]
     },
     "execution_count": 15,
     "metadata": {},
     "output_type": "execute_result"
    }
   ],
   "source": [
    "l[::2]"
   ]
  },
  {
   "cell_type": "code",
   "execution_count": 18,
   "id": "183c5678-d6ef-43da-be98-86500f5cf1af",
   "metadata": {},
   "outputs": [
    {
     "data": {
      "text/plain": [
       "[1, 123, 45, 'deep', True, (5+8j), 345.46]"
      ]
     },
     "execution_count": 18,
     "metadata": {},
     "output_type": "execute_result"
    }
   ],
   "source": [
    "list(l)"
   ]
  },
  {
   "cell_type": "code",
   "execution_count": 20,
   "id": "4533ac20-aff8-42ea-85b7-3a1192c81858",
   "metadata": {},
   "outputs": [],
   "source": [
    "s = \"pwskills\""
   ]
  },
  {
   "cell_type": "code",
   "execution_count": 23,
   "id": "25512685-96e2-49f5-9858-03556cd09330",
   "metadata": {},
   "outputs": [
    {
     "data": {
      "text/plain": [
       "['p',\n",
       " 'w',\n",
       " 's',\n",
       " 'k',\n",
       " 'i',\n",
       " 'l',\n",
       " 'l',\n",
       " 's',\n",
       " 1,\n",
       " 123,\n",
       " 45,\n",
       " 'deep',\n",
       " True,\n",
       " (5+8j),\n",
       " 345.46]"
      ]
     },
     "execution_count": 23,
     "metadata": {},
     "output_type": "execute_result"
    }
   ],
   "source": [
    "list(s) + l"
   ]
  },
  {
   "cell_type": "code",
   "execution_count": 24,
   "id": "5c180bf6-95f1-4ac7-845d-753e0bea709f",
   "metadata": {},
   "outputs": [
    {
     "data": {
      "text/plain": [
       "[1, 123, 45, 'deep', True, (5+8j), 345.46]"
      ]
     },
     "execution_count": 24,
     "metadata": {},
     "output_type": "execute_result"
    }
   ],
   "source": [
    "l"
   ]
  },
  {
   "cell_type": "code",
   "execution_count": 25,
   "id": "cb62dda9-eaed-4e2f-8b3b-934f1cd8be7e",
   "metadata": {},
   "outputs": [
    {
     "data": {
      "text/plain": [
       "'deep'"
      ]
     },
     "execution_count": 25,
     "metadata": {},
     "output_type": "execute_result"
    }
   ],
   "source": [
    "l[3]"
   ]
  },
  {
   "cell_type": "code",
   "execution_count": 29,
   "id": "5a36654c-cbf8-4fa1-ac69-67ee1aeac267",
   "metadata": {},
   "outputs": [
    {
     "data": {
      "text/plain": [
       "str"
      ]
     },
     "execution_count": 29,
     "metadata": {},
     "output_type": "execute_result"
    }
   ],
   "source": [
    "type(l[3])"
   ]
  },
  {
   "cell_type": "code",
   "execution_count": 30,
   "id": "cc6c114f-23d6-4ac5-a7db-07803872dea9",
   "metadata": {},
   "outputs": [
    {
     "data": {
      "text/plain": [
       "'de'"
      ]
     },
     "execution_count": 30,
     "metadata": {},
     "output_type": "execute_result"
    }
   ],
   "source": [
    "l[3][0:2]"
   ]
  },
  {
   "cell_type": "code",
   "execution_count": 31,
   "id": "e23623ef-4d77-4643-bb73-72877a0d801a",
   "metadata": {},
   "outputs": [
    {
     "data": {
      "text/plain": [
       "True"
      ]
     },
     "execution_count": 31,
     "metadata": {},
     "output_type": "execute_result"
    }
   ],
   "source": [
    "l[4]"
   ]
  },
  {
   "cell_type": "code",
   "execution_count": 32,
   "id": "d6814615-ab95-4823-af69-90cf8efd6c37",
   "metadata": {},
   "outputs": [
    {
     "data": {
      "text/plain": [
       "'Tr'"
      ]
     },
     "execution_count": 32,
     "metadata": {},
     "output_type": "execute_result"
    }
   ],
   "source": [
    "str(l[4])[0:2]"
   ]
  },
  {
   "cell_type": "code",
   "execution_count": 33,
   "id": "f30b158e-8771-4045-8f92-3881fae4f6b9",
   "metadata": {},
   "outputs": [
    {
     "data": {
      "text/plain": [
       "[1, 123, 45, 'deep', True, (5+8j), 345.46]"
      ]
     },
     "execution_count": 33,
     "metadata": {},
     "output_type": "execute_result"
    }
   ],
   "source": [
    "l"
   ]
  },
  {
   "cell_type": "code",
   "execution_count": 35,
   "id": "d241c156-5659-4c47-9f57-bdc638397505",
   "metadata": {},
   "outputs": [],
   "source": [
    "l1 = [3,4,5]"
   ]
  },
  {
   "cell_type": "code",
   "execution_count": 36,
   "id": "d74b4185-8f0e-4c68-b071-2a20540eb0c6",
   "metadata": {},
   "outputs": [
    {
     "data": {
      "text/plain": [
       "[1, 123, 45, 'deep', True, (5+8j), 345.46, 3, 4, 5]"
      ]
     },
     "execution_count": 36,
     "metadata": {},
     "output_type": "execute_result"
    }
   ],
   "source": [
    "l + l1"
   ]
  },
  {
   "cell_type": "code",
   "execution_count": 37,
   "id": "bf74d707-681c-46e4-9ba5-e9f1ce116995",
   "metadata": {},
   "outputs": [
    {
     "data": {
      "text/plain": [
       "[3, 4, 5]"
      ]
     },
     "execution_count": 37,
     "metadata": {},
     "output_type": "execute_result"
    }
   ],
   "source": [
    "l1"
   ]
  },
  {
   "cell_type": "code",
   "execution_count": 38,
   "id": "2b7629d8-a44b-4471-8bf8-02b8cea0ce15",
   "metadata": {},
   "outputs": [
    {
     "data": {
      "text/plain": [
       "[3, 4, 5, 3, 4, 5, 3, 4, 5]"
      ]
     },
     "execution_count": 38,
     "metadata": {},
     "output_type": "execute_result"
    }
   ],
   "source": [
    "l1*3"
   ]
  },
  {
   "cell_type": "code",
   "execution_count": 40,
   "id": "a077b4a0-a480-4249-bf7b-0a1993a273fe",
   "metadata": {},
   "outputs": [
    {
     "data": {
      "text/plain": [
       "7"
      ]
     },
     "execution_count": 40,
     "metadata": {},
     "output_type": "execute_result"
    }
   ],
   "source": [
    "len(l)"
   ]
  },
  {
   "cell_type": "code",
   "execution_count": 41,
   "id": "0e5603ec-f84a-4363-9714-d5652cecb0c3",
   "metadata": {},
   "outputs": [
    {
     "data": {
      "text/plain": [
       "[1, 123, 45, 'deep', True, (5+8j), 345.46]"
      ]
     },
     "execution_count": 41,
     "metadata": {},
     "output_type": "execute_result"
    }
   ],
   "source": [
    "l"
   ]
  },
  {
   "cell_type": "code",
   "execution_count": 42,
   "id": "2c2ec851-f788-4095-9ed2-08811c354209",
   "metadata": {},
   "outputs": [],
   "source": [
    "l.append(5)"
   ]
  },
  {
   "cell_type": "code",
   "execution_count": 43,
   "id": "8fba3333-b1d7-4702-91b8-133db5e5468d",
   "metadata": {},
   "outputs": [
    {
     "data": {
      "text/plain": [
       "[1, 123, 45, 'deep', True, (5+8j), 345.46, 5]"
      ]
     },
     "execution_count": 43,
     "metadata": {},
     "output_type": "execute_result"
    }
   ],
   "source": [
    "l"
   ]
  },
  {
   "cell_type": "code",
   "execution_count": 44,
   "id": "6845fc68-6fd2-43a1-a5d1-d887c5c8ec8c",
   "metadata": {},
   "outputs": [],
   "source": []
  },
  {
   "cell_type": "code",
   "execution_count": 46,
   "id": "78d3e346-5c18-4561-88dd-482b9302e60a",
   "metadata": {},
   "outputs": [
    {
     "data": {
      "text/plain": [
       "[1, 123, 45, 'deep', True, (5+8j), 345.46, 5]"
      ]
     },
     "execution_count": 46,
     "metadata": {},
     "output_type": "execute_result"
    }
   ],
   "source": [
    "l"
   ]
  },
  {
   "cell_type": "code",
   "execution_count": 47,
   "id": "9c1c88c9-649e-4f2e-a7d5-7b313ecd72da",
   "metadata": {},
   "outputs": [
    {
     "data": {
      "text/plain": [
       "'pwskills'"
      ]
     },
     "execution_count": 47,
     "metadata": {},
     "output_type": "execute_result"
    }
   ],
   "source": [
    "s"
   ]
  },
  {
   "cell_type": "code",
   "execution_count": 48,
   "id": "02b2e6e5-3344-46f4-9b2c-890a16b25cca",
   "metadata": {},
   "outputs": [],
   "source": [
    "l.append(s)"
   ]
  },
  {
   "cell_type": "code",
   "execution_count": 49,
   "id": "3cb12497-1aad-4ccb-9619-b91aaa433638",
   "metadata": {},
   "outputs": [
    {
     "data": {
      "text/plain": [
       "'pwskills'"
      ]
     },
     "execution_count": 49,
     "metadata": {},
     "output_type": "execute_result"
    }
   ],
   "source": [
    "s"
   ]
  },
  {
   "cell_type": "code",
   "execution_count": 50,
   "id": "bdcee5ad-80a4-4110-97ea-61d099493e87",
   "metadata": {},
   "outputs": [
    {
     "data": {
      "text/plain": [
       "[1, 123, 45, 'deep', True, (5+8j), 345.46, 5, 'pwskills']"
      ]
     },
     "execution_count": 50,
     "metadata": {},
     "output_type": "execute_result"
    }
   ],
   "source": [
    "l"
   ]
  },
  {
   "cell_type": "code",
   "execution_count": 51,
   "id": "e363c5b9-4659-4152-a54a-f94eff3bceba",
   "metadata": {},
   "outputs": [
    {
     "data": {
      "text/plain": [
       "[3, 4, 5]"
      ]
     },
     "execution_count": 51,
     "metadata": {},
     "output_type": "execute_result"
    }
   ],
   "source": [
    "l1"
   ]
  },
  {
   "cell_type": "code",
   "execution_count": 52,
   "id": "2fff4eb6-fb18-4c92-9130-2fcd5823168f",
   "metadata": {},
   "outputs": [],
   "source": [
    "l.append(l1)"
   ]
  },
  {
   "cell_type": "code",
   "execution_count": 53,
   "id": "a540974a-3015-4ee4-8342-51c61ffe0167",
   "metadata": {},
   "outputs": [
    {
     "data": {
      "text/plain": [
       "[3, 4, 5]"
      ]
     },
     "execution_count": 53,
     "metadata": {},
     "output_type": "execute_result"
    }
   ],
   "source": [
    "l1"
   ]
  },
  {
   "cell_type": "code",
   "execution_count": 54,
   "id": "583f3cab-bdbd-4032-8cd2-c012930845f5",
   "metadata": {},
   "outputs": [
    {
     "data": {
      "text/plain": [
       "[1, 123, 45, 'deep', True, (5+8j), 345.46, 5, 'pwskills', [3, 4, 5]]"
      ]
     },
     "execution_count": 54,
     "metadata": {},
     "output_type": "execute_result"
    }
   ],
   "source": [
    "l"
   ]
  },
  {
   "cell_type": "code",
   "execution_count": 56,
   "id": "3b5540f2-b373-4bc5-8d31-a815ad7e0b00",
   "metadata": {},
   "outputs": [
    {
     "data": {
      "text/plain": [
       "4"
      ]
     },
     "execution_count": 56,
     "metadata": {},
     "output_type": "execute_result"
    }
   ],
   "source": [
    "l[-1][1]"
   ]
  },
  {
   "cell_type": "code",
   "execution_count": 57,
   "id": "2b96a9df-9164-45dc-9c48-4353fc90e5c8",
   "metadata": {},
   "outputs": [
    {
     "ename": "TypeError",
     "evalue": "'int' object is not iterable",
     "output_type": "error",
     "traceback": [
      "\u001b[0;31m---------------------------------------------------------------------------\u001b[0m",
      "\u001b[0;31mTypeError\u001b[0m                                 Traceback (most recent call last)",
      "Cell \u001b[0;32mIn[57], line 1\u001b[0m\n\u001b[0;32m----> 1\u001b[0m \u001b[43ml\u001b[49m\u001b[38;5;241;43m.\u001b[39;49m\u001b[43mextend\u001b[49m\u001b[43m(\u001b[49m\u001b[38;5;241;43m4\u001b[39;49m\u001b[43m)\u001b[49m\n",
      "\u001b[0;31mTypeError\u001b[0m: 'int' object is not iterable"
     ]
    }
   ],
   "source": [
    "l.extend(4)"
   ]
  },
  {
   "cell_type": "code",
   "execution_count": 11,
   "id": "f2ca4dae-01ca-47f3-bae2-d8059c68d41d",
   "metadata": {},
   "outputs": [],
   "source": [
    "l.extend(\"deep\")"
   ]
  },
  {
   "cell_type": "code",
   "execution_count": 60,
   "id": "eadefb79-a6aa-4dce-9083-653b2883df61",
   "metadata": {},
   "outputs": [
    {
     "data": {
      "text/plain": [
       "[1,\n",
       " 123,\n",
       " 45,\n",
       " 'deep',\n",
       " True,\n",
       " (5+8j),\n",
       " 345.46,\n",
       " 5,\n",
       " 'pwskills',\n",
       " [3, 4, 5],\n",
       " 'd',\n",
       " 'e',\n",
       " 'e',\n",
       " 'p']"
      ]
     },
     "execution_count": 60,
     "metadata": {},
     "output_type": "execute_result"
    }
   ],
   "source": [
    "l"
   ]
  },
  {
   "cell_type": "code",
   "execution_count": 61,
   "id": "e156b480-5234-4665-84bb-ae844d640c38",
   "metadata": {},
   "outputs": [],
   "source": [
    "l.extend([3,4,5])"
   ]
  },
  {
   "cell_type": "code",
   "execution_count": 62,
   "id": "357c2cb3-89ad-49ee-a2ad-bfd5bbbba853",
   "metadata": {},
   "outputs": [
    {
     "data": {
      "text/plain": [
       "[1,\n",
       " 123,\n",
       " 45,\n",
       " 'deep',\n",
       " True,\n",
       " (5+8j),\n",
       " 345.46,\n",
       " 5,\n",
       " 'pwskills',\n",
       " [3, 4, 5],\n",
       " 'd',\n",
       " 'e',\n",
       " 'e',\n",
       " 'p',\n",
       " 3,\n",
       " 4,\n",
       " 5]"
      ]
     },
     "execution_count": 62,
     "metadata": {},
     "output_type": "execute_result"
    }
   ],
   "source": [
    "l"
   ]
  },
  {
   "cell_type": "code",
   "execution_count": null,
   "id": "fe7125da-83d8-475a-98a6-58506ac65d66",
   "metadata": {},
   "outputs": [],
   "source": []
  },
  {
   "cell_type": "code",
   "execution_count": 64,
   "id": "aa849652-0a0c-4aef-9d6b-7a3bb28c4f4b",
   "metadata": {},
   "outputs": [
    {
     "data": {
      "text/plain": [
       "[3, 4, 5]"
      ]
     },
     "execution_count": 64,
     "metadata": {},
     "output_type": "execute_result"
    }
   ],
   "source": [
    "l1"
   ]
  },
  {
   "cell_type": "code",
   "execution_count": 66,
   "id": "9c800c2a-de6f-45a8-9919-ceeb32a18f25",
   "metadata": {},
   "outputs": [],
   "source": [
    "l1.insert(1,\"deep\")"
   ]
  },
  {
   "cell_type": "code",
   "execution_count": 67,
   "id": "b3e49c1f-1357-404a-a646-179fa1c50f22",
   "metadata": {},
   "outputs": [
    {
     "data": {
      "text/plain": [
       "[3, 'deep', 4, 5]"
      ]
     },
     "execution_count": 67,
     "metadata": {},
     "output_type": "execute_result"
    }
   ],
   "source": [
    "l1"
   ]
  },
  {
   "cell_type": "code",
   "execution_count": 68,
   "id": "0b78e56b-32e9-4906-87ba-1488e123f9b0",
   "metadata": {},
   "outputs": [],
   "source": [
    "l1.insert(2,[2,3,4])"
   ]
  },
  {
   "cell_type": "code",
   "execution_count": 69,
   "id": "0a72c0f9-bfa1-4ed8-8b5b-6bfb59c01ba3",
   "metadata": {},
   "outputs": [
    {
     "data": {
      "text/plain": [
       "[3, 'deep', [2, 3, 4], 4, 5]"
      ]
     },
     "execution_count": 69,
     "metadata": {},
     "output_type": "execute_result"
    }
   ],
   "source": [
    "l1"
   ]
  },
  {
   "cell_type": "code",
   "execution_count": null,
   "id": "8be0b79e-8ae9-4719-9024-2ccc2d01cbdb",
   "metadata": {},
   "outputs": [],
   "source": []
  },
  {
   "cell_type": "code",
   "execution_count": 71,
   "id": "6d311b5c-68d6-4a2f-8b94-7c5fa663d894",
   "metadata": {},
   "outputs": [
    {
     "name": "stdout",
     "output_type": "stream",
     "text": [
      "leaving at 53.11\n"
     ]
    }
   ],
   "source": [
    "print(\"leaving at 53.11\")"
   ]
  },
  {
   "cell_type": "code",
   "execution_count": 22,
   "id": "e57e25c4-4bb5-4c0e-b560-6fe1d1a7bd30",
   "metadata": {},
   "outputs": [],
   "source": [
    "l2 = [2,3,5]"
   ]
  },
  {
   "cell_type": "code",
   "execution_count": 23,
   "id": "9a2e1554-f9e5-4108-9569-d55b1313b82d",
   "metadata": {},
   "outputs": [
    {
     "data": {
      "text/plain": [
       "5"
      ]
     },
     "execution_count": 23,
     "metadata": {},
     "output_type": "execute_result"
    }
   ],
   "source": [
    "l2.pop()"
   ]
  },
  {
   "cell_type": "code",
   "execution_count": 24,
   "id": "8e807021-657c-4210-8676-b6fe406d2b52",
   "metadata": {},
   "outputs": [
    {
     "data": {
      "text/plain": [
       "[2, 3]"
      ]
     },
     "execution_count": 24,
     "metadata": {},
     "output_type": "execute_result"
    }
   ],
   "source": [
    "l2"
   ]
  },
  {
   "cell_type": "code",
   "execution_count": 25,
   "id": "c7df6436-52cb-447f-876d-9bab6b1a3a5d",
   "metadata": {},
   "outputs": [
    {
     "data": {
      "text/plain": [
       "2"
      ]
     },
     "execution_count": 25,
     "metadata": {},
     "output_type": "execute_result"
    }
   ],
   "source": [
    "l2.pop(0)"
   ]
  },
  {
   "cell_type": "code",
   "execution_count": 26,
   "id": "54b0601e-603a-4d16-8314-3841becf13c0",
   "metadata": {},
   "outputs": [
    {
     "data": {
      "text/plain": [
       "[3]"
      ]
     },
     "execution_count": 26,
     "metadata": {},
     "output_type": "execute_result"
    }
   ],
   "source": [
    "l2"
   ]
  },
  {
   "cell_type": "code",
   "execution_count": 27,
   "id": "57c51d1e-9ed7-420c-bc05-2bd46215bbe7",
   "metadata": {},
   "outputs": [],
   "source": [
    "l2.insert(0,2)"
   ]
  },
  {
   "cell_type": "code",
   "execution_count": 28,
   "id": "1f2069d4-5262-4ed7-9569-84993e230269",
   "metadata": {},
   "outputs": [
    {
     "data": {
      "text/plain": [
       "[2, 3]"
      ]
     },
     "execution_count": 28,
     "metadata": {},
     "output_type": "execute_result"
    }
   ],
   "source": [
    "l2"
   ]
  },
  {
   "cell_type": "code",
   "execution_count": 29,
   "id": "dab74b4f-eae8-4612-8079-6a35f5ea0f03",
   "metadata": {},
   "outputs": [],
   "source": [
    "l2.insert(2,5)"
   ]
  },
  {
   "cell_type": "code",
   "execution_count": 30,
   "id": "df1146f3-e964-4d13-9be1-cef9bbf31d72",
   "metadata": {},
   "outputs": [
    {
     "data": {
      "text/plain": [
       "[2, 3, 5]"
      ]
     },
     "execution_count": 30,
     "metadata": {},
     "output_type": "execute_result"
    }
   ],
   "source": [
    "l2"
   ]
  },
  {
   "cell_type": "code",
   "execution_count": 31,
   "id": "88a58231-7b38-475b-966c-6d2a213eed71",
   "metadata": {},
   "outputs": [
    {
     "data": {
      "text/plain": [
       "3"
      ]
     },
     "execution_count": 31,
     "metadata": {},
     "output_type": "execute_result"
    }
   ],
   "source": [
    "l2.pop(1)"
   ]
  },
  {
   "cell_type": "code",
   "execution_count": 32,
   "id": "39196d68-ba63-4c53-93e3-0c3e6ef85bdf",
   "metadata": {},
   "outputs": [
    {
     "data": {
      "text/plain": [
       "[2, 5]"
      ]
     },
     "execution_count": 32,
     "metadata": {},
     "output_type": "execute_result"
    }
   ],
   "source": [
    "l2"
   ]
  },
  {
   "cell_type": "code",
   "execution_count": 33,
   "id": "39fb2c92-f3c3-49e8-a740-e14872c10c63",
   "metadata": {},
   "outputs": [],
   "source": [
    "l2.insert(2,6)"
   ]
  },
  {
   "cell_type": "code",
   "execution_count": 34,
   "id": "c5f1b2d8-9986-44b3-a42b-48d7d777cff8",
   "metadata": {},
   "outputs": [
    {
     "data": {
      "text/plain": [
       "[2, 5, 6]"
      ]
     },
     "execution_count": 34,
     "metadata": {},
     "output_type": "execute_result"
    }
   ],
   "source": [
    "l2"
   ]
  },
  {
   "cell_type": "code",
   "execution_count": 35,
   "id": "929fea80-202a-431c-bc0c-3a09ce3b0034",
   "metadata": {},
   "outputs": [],
   "source": [
    "l2.remove(5)"
   ]
  },
  {
   "cell_type": "code",
   "execution_count": 36,
   "id": "3e1538c2-8377-4fa5-acc6-ed55a4bc496a",
   "metadata": {},
   "outputs": [
    {
     "data": {
      "text/plain": [
       "[2, 6]"
      ]
     },
     "execution_count": 36,
     "metadata": {},
     "output_type": "execute_result"
    }
   ],
   "source": [
    "l2"
   ]
  },
  {
   "cell_type": "code",
   "execution_count": 37,
   "id": "8479eaf7-d865-47c5-b984-4c2ca158562f",
   "metadata": {},
   "outputs": [],
   "source": [
    "#pop works on index and remove directly remove the values like 5 we removed and pop works on index "
   ]
  },
  {
   "cell_type": "code",
   "execution_count": 38,
   "id": "e63e72d0-f79b-4a0d-9795-62fb1257b483",
   "metadata": {},
   "outputs": [],
   "source": [
    "l3 = [45,'deep',[2,3,4],4]"
   ]
  },
  {
   "cell_type": "code",
   "execution_count": 39,
   "id": "c140a42f-bc9b-4233-83b1-65dbc521a9bf",
   "metadata": {},
   "outputs": [
    {
     "data": {
      "text/plain": [
       "[45, 'deep', [2, 3, 4], 4]"
      ]
     },
     "execution_count": 39,
     "metadata": {},
     "output_type": "execute_result"
    }
   ],
   "source": [
    "l3"
   ]
  },
  {
   "cell_type": "code",
   "execution_count": 43,
   "id": "aded6e4b-fb86-42a5-979a-6c561f850e59",
   "metadata": {},
   "outputs": [],
   "source": [
    "l3[2].remove(3)"
   ]
  },
  {
   "cell_type": "code",
   "execution_count": 44,
   "id": "8dd74f11-6540-44b7-aa2a-00d89995aeb5",
   "metadata": {},
   "outputs": [
    {
     "data": {
      "text/plain": [
       "[45, 'deep', [2, 4], 4]"
      ]
     },
     "execution_count": 44,
     "metadata": {},
     "output_type": "execute_result"
    }
   ],
   "source": [
    "l3"
   ]
  },
  {
   "cell_type": "code",
   "execution_count": 46,
   "id": "ec390635-0614-4128-bfdd-e2dffb843fc2",
   "metadata": {},
   "outputs": [
    {
     "data": {
      "text/plain": [
       "'deep'"
      ]
     },
     "execution_count": 46,
     "metadata": {},
     "output_type": "execute_result"
    }
   ],
   "source": [
    "l3.pop(1)"
   ]
  },
  {
   "cell_type": "code",
   "execution_count": 47,
   "id": "1669aac6-8723-4487-bdb8-8c651d11186e",
   "metadata": {},
   "outputs": [
    {
     "data": {
      "text/plain": [
       "[45, [2, 4], 4]"
      ]
     },
     "execution_count": 47,
     "metadata": {},
     "output_type": "execute_result"
    }
   ],
   "source": [
    "l3"
   ]
  },
  {
   "cell_type": "code",
   "execution_count": 48,
   "id": "95f73411-c579-4cf2-8c9f-0217a802609e",
   "metadata": {},
   "outputs": [
    {
     "data": {
      "text/plain": [
       "[4, [2, 4], 45]"
      ]
     },
     "execution_count": 48,
     "metadata": {},
     "output_type": "execute_result"
    }
   ],
   "source": [
    "l3[::-1]\n"
   ]
  },
  {
   "cell_type": "code",
   "execution_count": 50,
   "id": "5b5eeb4c-be65-4309-bbd0-607e0debfef0",
   "metadata": {},
   "outputs": [],
   "source": [
    "l3.reverse()"
   ]
  },
  {
   "cell_type": "code",
   "execution_count": 51,
   "id": "4aa0c0f1-6bc2-4485-84ca-2f243e66c6a6",
   "metadata": {},
   "outputs": [
    {
     "data": {
      "text/plain": [
       "[4, [2, 4], 45]"
      ]
     },
     "execution_count": 51,
     "metadata": {},
     "output_type": "execute_result"
    }
   ],
   "source": [
    "l3"
   ]
  },
  {
   "cell_type": "code",
   "execution_count": 57,
   "id": "2cc1d04c-d8e4-4266-873d-ad5763e91cee",
   "metadata": {},
   "outputs": [],
   "source": [
    "l4 = [3,20,10,6,7,8]"
   ]
  },
  {
   "cell_type": "code",
   "execution_count": 58,
   "id": "1b9a2864-c3ce-4b5e-a707-4a82c140775f",
   "metadata": {},
   "outputs": [],
   "source": [
    "l4.sort()"
   ]
  },
  {
   "cell_type": "code",
   "execution_count": 59,
   "id": "5a8b4760-a2e7-4445-addd-c9c6784732af",
   "metadata": {},
   "outputs": [
    {
     "data": {
      "text/plain": [
       "[3, 6, 7, 8, 10, 20]"
      ]
     },
     "execution_count": 59,
     "metadata": {},
     "output_type": "execute_result"
    }
   ],
   "source": [
    "l4"
   ]
  },
  {
   "cell_type": "code",
   "execution_count": 60,
   "id": "7ba00276-92d9-4788-bf0f-0f67c762b618",
   "metadata": {},
   "outputs": [],
   "source": [
    "#sort basically ascending order me arrange kar deta h list ko"
   ]
  },
  {
   "cell_type": "code",
   "execution_count": 61,
   "id": "bc5252ec-591e-4cfe-a23d-85c3d84c2eca",
   "metadata": {},
   "outputs": [],
   "source": [
    "l5 = ['kumar', 'pwskills' , 'deepak']"
   ]
  },
  {
   "cell_type": "code",
   "execution_count": 62,
   "id": "6241cb67-5423-4ef6-bf7c-45d76e6efa1e",
   "metadata": {},
   "outputs": [],
   "source": [
    "l5.sort()"
   ]
  },
  {
   "cell_type": "code",
   "execution_count": 63,
   "id": "c6858896-e6e0-4014-9dbe-873f866643ba",
   "metadata": {},
   "outputs": [
    {
     "data": {
      "text/plain": [
       "['deepak', 'kumar', 'pwskills']"
      ]
     },
     "execution_count": 63,
     "metadata": {},
     "output_type": "execute_result"
    }
   ],
   "source": [
    "l5"
   ]
  },
  {
   "cell_type": "code",
   "execution_count": 64,
   "id": "38692a13-21f1-4ab7-9102-331d83fb5fac",
   "metadata": {},
   "outputs": [],
   "source": [
    "#agar descending order me karna h to"
   ]
  },
  {
   "cell_type": "code",
   "execution_count": 68,
   "id": "45288567-69cb-40ae-81bb-0f5c225c86c3",
   "metadata": {},
   "outputs": [],
   "source": [
    "l5.sort(reverse = True)"
   ]
  },
  {
   "cell_type": "code",
   "execution_count": 69,
   "id": "27b8962c-1de9-4b0e-b88d-9cac5f6c3374",
   "metadata": {},
   "outputs": [
    {
     "data": {
      "text/plain": [
       "['pwskills', 'kumar', 'deepak']"
      ]
     },
     "execution_count": 69,
     "metadata": {},
     "output_type": "execute_result"
    }
   ],
   "source": [
    "l5"
   ]
  },
  {
   "cell_type": "code",
   "execution_count": 70,
   "id": "20adf65b-3b7b-4e63-82a0-7e1e5fee433f",
   "metadata": {},
   "outputs": [],
   "source": [
    "l4.sort(reverse = True)"
   ]
  },
  {
   "cell_type": "code",
   "execution_count": 71,
   "id": "aa3c8b29-7ef1-4197-b61f-c319076ec26f",
   "metadata": {},
   "outputs": [
    {
     "data": {
      "text/plain": [
       "[20, 10, 8, 7, 6, 3]"
      ]
     },
     "execution_count": 71,
     "metadata": {},
     "output_type": "execute_result"
    }
   ],
   "source": [
    "l4"
   ]
  },
  {
   "cell_type": "code",
   "execution_count": 73,
   "id": "1db2124f-876a-4fa7-a22a-55fae7a24936",
   "metadata": {},
   "outputs": [
    {
     "data": {
      "text/plain": [
       "1"
      ]
     },
     "execution_count": 73,
     "metadata": {},
     "output_type": "execute_result"
    }
   ],
   "source": [
    "l5.index('kumar')"
   ]
  },
  {
   "cell_type": "code",
   "execution_count": 74,
   "id": "81483ffb-3dd8-4493-8e0e-78df3901d870",
   "metadata": {},
   "outputs": [],
   "source": [
    "d = 'deep'"
   ]
  },
  {
   "cell_type": "code",
   "execution_count": 77,
   "id": "670fc3f2-97f0-4e9b-9239-5304cf9a667f",
   "metadata": {},
   "outputs": [],
   "source": [
    "l6 = [3,4,5,6]"
   ]
  },
  {
   "cell_type": "code",
   "execution_count": 79,
   "id": "6df7dd1d-3b1d-448a-9de9-e7dc56eb362e",
   "metadata": {},
   "outputs": [],
   "source": [
    "l6[0] = 50"
   ]
  },
  {
   "cell_type": "code",
   "execution_count": 80,
   "id": "65d522fe-b4fd-41d6-8091-f9c01d2108ef",
   "metadata": {},
   "outputs": [
    {
     "data": {
      "text/plain": [
       "[50, 4, 5, 6]"
      ]
     },
     "execution_count": 80,
     "metadata": {},
     "output_type": "execute_result"
    }
   ],
   "source": [
    "l6"
   ]
  },
  {
   "cell_type": "code",
   "execution_count": 82,
   "id": "e291986c-98e9-4338-8c06-63a30c54481e",
   "metadata": {},
   "outputs": [],
   "source": [
 
   ]
  },
  {
   "cell_type": "code",
   "execution_count": 83,
   "id": "59afcaa9-c8dc-4c5b-bb40-f6192d483363",
   "metadata": {},
   "outputs": [
    {
     "data": {
      "text/plain": [
       "'seep'"
      ]
     },
     "execution_count": 83,
     "metadata": {},
     "output_type": "execute_result"
    }
   ],
   "source": [
    "d.replace('d' , 's')"
   ]
  },
  {
   "cell_type": "code",
   "execution_count": 84,
   "id": "5fa1976a-2826-43eb-a363-2173107094b2",
   "metadata": {},
   "outputs": [
    {
     "data": {
      "text/plain": [
       "'deep'"
      ]
     },
     "execution_count": 84,
     "metadata": {},
     "output_type": "execute_result"
    }
   ],
   "source": [
    "d"
   ]
  },
  {
   "cell_type": "code",
   "execution_count": 85,
   "id": "457ae8e7-67a9-4245-9134-a76c2b5d1f89",
   "metadata": {},
   "outputs": [],
   "source": [
    "#final value change nhi hui"
   ]
  },
  {
   "cell_type": "code",
   "execution_count": 87,
   "id": "a0e3ed1c-26e4-426c-8454-195c31f3a5e1",
   "metadata": {},
   "outputs": [],
   "source": [
    "t = (2,3,5,'deep',45.65,False,5+10j)"
   ]
  },
  {
   "cell_type": "code",
   "execution_count": 88,
   "id": "81ae4faf-3100-4385-bb29-b157b5c2226c",
   "metadata": {},
   "outputs": [
    {
     "data": {
      "text/plain": [
       "(2, 3, 5, 'deep', 45.65, False, (5+10j))"
      ]
     },
     "execution_count": 88,
     "metadata": {},
     "output_type": "execute_result"
    }
   ],
   "source": [
    "t"
   ]
  },
  {
   "cell_type": "code",
   "execution_count": 89,
   "id": "daa43422-05c4-4326-86b4-b22c333c6cf1",
   "metadata": {},
   "outputs": [
    {
     "data": {
      "text/plain": [
       "tuple"
      ]
     },
     "execution_count": 89,
     "metadata": {},
     "output_type": "execute_result"
    }
   ],
   "source": [
    "type(t)"
   ]
  },
  {
   "cell_type": "code",
   "execution_count": 90,
   "id": "26d22519-0304-46e6-8f5a-171c06282b42",
   "metadata": {},
   "outputs": [],
   "source": [
    
   ]
  },
  {
   "cell_type": "code",
   "execution_count": 91,
   "id": "313eb859-446b-4d59-bfbf-341ac99d8c5b",
   "metadata": {},
   "outputs": [
    {
     "data": {
      "text/plain": [
       "['pwskills', 'kumar', 'deepak']"
      ]
     },
     "execution_count": 91,
     "metadata": {},
     "output_type": "execute_result"
    }
   ],
   "source": [
    "l5"
   ]
  },
  {
   "cell_type": "code",
   "execution_count": 94,
   "id": "900af638-79d6-4a8e-aae9-90dacab7169e",
   "metadata": {},
   "outputs": [],
   "source": [
    "l5[0] = 234"
   ]
  },
  {
   "cell_type": "code",
   "execution_count": 95,
   "id": "bea7c734-232a-47c6-a62a-681dbdf92aa8",
   "metadata": {},
   "outputs": [
    {
     "data": {
      "text/plain": [
       "[234, 'kumar', 'deepak']"
      ]
     },
     "execution_count": 95,
     "metadata": {},
     "output_type": "execute_result"
    }
   ],
   "source": [
    "l5"
   ]
  },
  {
   "cell_type": "code",
   "execution_count": 96,
   "id": "f2fbb6a2-a08e-438b-b2bd-0dd5d47db04f",
   "metadata": {},
   "outputs": [],
   "source": [
    "#tuples are immutable and list are mutuable"
   ]
  },
  {
   "cell_type": "code",
   "execution_count": null,
   "id": "c9dfda5c-6cbd-49cf-acc2-458c215b9dd2",
   "metadata": {},
   "outputs": [],
   "source": [
    "t."
   ]
  },
  {
   "cell_type": "code",
   "execution_count": 98,
   "id": "b07e76da-a62c-4c53-97c9-9872a543a47d",
   "metadata": {},
   "outputs": [
    {
     "data": {
      "text/plain": [
       "((5+10j), False, 45.65, 'deep', 5, 3, 2)"
      ]
     },
     "execution_count": 98,
     "metadata": {},
     "output_type": "execute_result"
    }
   ],
   "source": [
    "t[::-1]"
   ]
  },
  {
   "cell_type": "code",
   "execution_count": 99,
   "id": "4c10a335-c15c-4b04-878d-6bd6f27c849d",
   "metadata": {},
   "outputs": [
    {
     "data": {
      "text/plain": [
       "1"
      ]
     },
     "execution_count": 99,
     "metadata": {},
     "output_type": "execute_result"
    }
   ],
   "source": [
    "t.count(5)"
   ]
  },
  {
   "cell_type": "code",
   "execution_count": 101,
   "id": "8bd1f761-801b-4013-b16b-31ac720f5084",
   "metadata": {},
   "outputs": [
    {
     "data": {
      "text/plain": [
       "(2, 3, 5, 'deep', 45.65, False, (5+10j))"
      ]
     },
     "execution_count": 101,
     "metadata": {},
     "output_type": "execute_result"
    }
   ],
   "source": [
    "t"
   ]
  },
  {
   "cell_type": "code",
   "execution_count": 102,
   "id": "d00c9bff-b9a5-490f-b011-8bfd85d4a18a",
   "metadata": {},
   "outputs": [
    {
     "data": {
      "text/plain": [
       "1"
      ]
     },
     "execution_count": 102,
     "metadata": {},
     "output_type": "execute_result"
    }
   ],
   "source": [
    "t.index(3)"
   ]
  },
  {
   "cell_type": "code",
   "execution_count": null,
   "id": "00c18393-1a49-430f-a0b7-ec04f888be06",
   "metadata": {},
   "outputs": [],
   "source": []
  }
 ],
 "metadata": {
  "kernelspec": {
   "display_name": "Python 3 (ipykernel)",
   "language": "python",
   "name": "python3"
  },
  "language_info": {
   "codemirror_mode": {
    "name": "ipython",
    "version": 3
   },
   "file_extension": ".py",
   "mimetype": "text/x-python",
   "name": "python",
   "nbconvert_exporter": "python",
   "pygments_lexer": "ipython3",
   "version": "3.10.8"
  }
 },
 "nbformat": 4,
 "nbformat_minor": 5
}
